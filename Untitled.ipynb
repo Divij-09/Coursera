{
 "cells": [
  {
   "cell_type": "markdown",
   "id": "5a805b31",
   "metadata": {},
   "source": [
    "# Data Science Tools and Ecosystem"
   ]
  },
  {
   "cell_type": "markdown",
   "id": "17a50045",
   "metadata": {},
   "source": [
    "In this notebook, Data Science Tools and Ecosystem are summarized."
   ]
  },
  {
   "cell_type": "markdown",
   "id": "2ae5d01a",
   "metadata": {},
   "source": [
    "Some of the popular languages that Data Scientists use are:\n",
    "1. Python  \n",
    "2. R  \n",
    "3. SQL  "
   ]
  },
  {
   "cell_type": "markdown",
   "id": "f79b99f4",
   "metadata": {},
   "source": [
    "Some of the commonly used libraries used by Data Scientists include:\n",
    "1. Pandas  \n",
    "2. NumPy  \n",
    "3. Scikit-learn  "
   ]
  },
  {
   "cell_type": "markdown",
   "id": "09eb60c1",
   "metadata": {},
   "source": [
    "| Data Science Tools |\n",
    "|--------------------|\n",
    "| Jupyter Notebook   |\n",
    "| RStudio            |\n",
    "| Apache Zeppelin    |\n"
   ]
  },
  {
   "cell_type": "markdown",
   "id": "b0b74e2b",
   "metadata": {},
   "source": [
    "Below are a few examples of evaluating arithmetic expressions in Python."
   ]
  },
  {
   "cell_type": "code",
   "execution_count": 4,
   "id": "eef25b17",
   "metadata": {},
   "outputs": [
    {
     "name": "stdout",
     "output_type": "stream",
     "text": [
      "Multiplication: 50\n",
      "Addition: 15\n"
     ]
    }
   ],
   "source": [
    "# Multiplying and adding two numbers\n",
    "num1 = 5\n",
    "num2 = 10\n",
    "\n",
    "multiplication_result = num1 * num2\n",
    "addition_result = num1 + num2\n",
    "\n",
    "print(f\"Multiplication: {multiplication_result}\")\n",
    "print(f\"Addition: {addition_result}\")"
   ]
  },
  {
   "cell_type": "code",
   "execution_count": 5,
   "id": "1e82bec4",
   "metadata": {},
   "outputs": [
    {
     "name": "stdout",
     "output_type": "stream",
     "text": [
      "150 minutes is equal to 2.5 hours.\n"
     ]
    }
   ],
   "source": [
    "# Converting minutes to hours\n",
    "minutes = 150  # example value\n",
    "\n",
    "hours = minutes / 60\n",
    "print(f\"{minutes} minutes is equal to {hours} hours.\")"
   ]
  },
  {
   "cell_type": "markdown",
   "id": "b343651b",
   "metadata": {},
   "source": [
    "The objectives of this notebook are:\n",
    "- To explore the basic arithmetic operations in Python\n",
    "- To understand data science libraries and tools\n",
    "- To practice Python coding in Jupyter Notebooks"
   ]
  },
  {
   "cell_type": "markdown",
   "id": "6f55ab36",
   "metadata": {},
   "source": [
    "Author: [Divij Pratap jain]"
   ]
  },
  {
   "cell_type": "code",
   "execution_count": null,
   "id": "7006f71e",
   "metadata": {},
   "outputs": [],
   "source": []
  },
  {
   "cell_type": "code",
   "execution_count": null,
   "id": "b95f6c79",
   "metadata": {},
   "outputs": [],
   "source": []
  }
 ],
 "metadata": {
  "kernelspec": {
   "display_name": "Python 3 (ipykernel)",
   "language": "python",
   "name": "python3"
  },
  "language_info": {
   "codemirror_mode": {
    "name": "ipython",
    "version": 3
   },
   "file_extension": ".py",
   "mimetype": "text/x-python",
   "name": "python",
   "nbconvert_exporter": "python",
   "pygments_lexer": "ipython3",
   "version": "3.9.13"
  }
 },
 "nbformat": 4,
 "nbformat_minor": 5
}
